{
 "cells": [
  {
   "cell_type": "code",
   "execution_count": 1,
   "id": "5e61d300",
   "metadata": {},
   "outputs": [],
   "source": [
    "# Import the random module.\n",
    "import random"
   ]
  },
  {
   "cell_type": "code",
   "execution_count": 2,
   "id": "9fe83b47",
   "metadata": {},
   "outputs": [
    {
     "data": {
      "text/plain": [
       "2"
      ]
     },
     "execution_count": 2,
     "metadata": {},
     "output_type": "execute_result"
    }
   ],
   "source": [
    "random.randint(-90,90)"
   ]
  },
  {
   "cell_type": "code",
   "execution_count": 3,
   "id": "3832431a",
   "metadata": {},
   "outputs": [
    {
     "data": {
      "text/plain": [
       "0.6046693291485605"
      ]
     },
     "execution_count": 3,
     "metadata": {},
     "output_type": "execute_result"
    }
   ],
   "source": [
    "random.random()"
   ]
  },
  {
   "cell_type": "code",
   "execution_count": 4,
   "id": "e6919bdd",
   "metadata": {},
   "outputs": [
    {
     "data": {
      "text/plain": [
       "-84.03139905152241"
      ]
     },
     "execution_count": 4,
     "metadata": {},
     "output_type": "execute_result"
    }
   ],
   "source": [
    "# Combining these two functions by adding them together gets us random latitude coordinates\n",
    "\n",
    "random_number = random.randint(-90, 89) + random.random()\n",
    "random_number"
   ]
  },
  {
   "cell_type": "code",
   "execution_count": 6,
   "id": "07ed5c5e",
   "metadata": {},
   "outputs": [
    {
     "data": {
      "text/plain": [
       "[-80.77841653709973,\n",
       " 82.57401185943215,\n",
       " -64.0443744413471,\n",
       " 63.66700812136635,\n",
       " -73.97360785515642,\n",
       " -7.4997722788488606,\n",
       " 89.19015777526495,\n",
       " 82.52972338389174,\n",
       " -25.698727286608023,\n",
       " -68.09738231683502]"
      ]
     },
     "execution_count": 6,
     "metadata": {},
     "output_type": "execute_result"
    }
   ],
   "source": [
    "# This is an algorithm that would generate ten random latitude coordinates\n",
    "x = 1\n",
    "latitudes = []\n",
    "\n",
    "while x < 11:\n",
    "    random_lat = random.randint(-90, 89) + random.random()\n",
    "    latitudes.append(random_lat)\n",
    "    x += 1\n",
    "\n",
    "latitudes"
   ]
  },
  {
   "cell_type": "code",
   "execution_count": 8,
   "id": "8da4b310",
   "metadata": {},
   "outputs": [
    {
     "data": {
      "text/plain": [
       "84"
      ]
     },
     "execution_count": 8,
     "metadata": {},
     "output_type": "execute_result"
    }
   ],
   "source": [
    "random.randrange(-90, 90, step=3)"
   ]
  },
  {
   "cell_type": "code",
   "execution_count": 9,
   "id": "54e74582",
   "metadata": {},
   "outputs": [
    {
     "data": {
      "text/plain": [
       "-66.75937352259547"
      ]
     },
     "execution_count": 9,
     "metadata": {},
     "output_type": "execute_result"
    }
   ],
   "source": [
    "random.uniform(-90, 90)"
   ]
  },
  {
   "cell_type": "code",
   "execution_count": 10,
   "id": "177a9003",
   "metadata": {},
   "outputs": [],
   "source": [
    "# Import the NumPy module.\n",
    "import numpy as np"
   ]
  },
  {
   "cell_type": "code",
   "execution_count": 11,
   "id": "e396f66f",
   "metadata": {},
   "outputs": [
    {
     "data": {
      "text/plain": [
       "-36.2938098204635"
      ]
     },
     "execution_count": 11,
     "metadata": {},
     "output_type": "execute_result"
    }
   ],
   "source": [
    "np.random.uniform(-90.000, 90.000)"
   ]
  },
  {
   "cell_type": "code",
   "execution_count": 12,
   "id": "7cc695b1",
   "metadata": {},
   "outputs": [
    {
     "data": {
      "text/plain": [
       "array([-11.6428677 , -52.59334396,   5.84193088,  53.57190054,\n",
       "        85.00137784, -28.51623474, -22.54497981,  -9.75736076,\n",
       "        16.70254161,  30.41349255, -66.059084  , -41.67935915,\n",
       "         1.42992988, -25.59007314, -75.11471987, -27.7271712 ,\n",
       "       -26.59931016,  28.71796867, -77.81171122,  16.97661905,\n",
       "        30.46432636, -71.39793929,  -6.1580025 ,  42.65287515,\n",
       "         1.58087189, -25.39864312,  15.08770096,  14.58724954,\n",
       "       -88.02155735, -13.51209816, -35.92435422, -20.52215745,\n",
       "        10.71793185, -24.56084185, -31.29433605,  42.75051426,\n",
       "        10.80663463, -50.26201791, -82.76052858,  66.62781589,\n",
       "        -0.3716792 ,  23.13021211, -51.88410144,  10.98376743,\n",
       "        44.92377313,  60.50818388,  61.58804673, -82.46823052,\n",
       "        -0.42198773, -84.33440365])"
      ]
     },
     "execution_count": 12,
     "metadata": {},
     "output_type": "execute_result"
    }
   ],
   "source": [
    "# Using NumPy to generate a matrix is more efficient than the algorithm above.\n",
    "np.random.uniform(-90.000, 90.000, size=50)"
   ]
  },
  {
   "cell_type": "code",
   "execution_count": 13,
   "id": "df500c7a",
   "metadata": {},
   "outputs": [],
   "source": [
    "# We can time the methods to prove which computes faster\n",
    "# Import timeit.\n",
    "import timeit"
   ]
  },
  {
   "cell_type": "code",
   "execution_count": 14,
   "id": "253492ff",
   "metadata": {},
   "outputs": [
    {
     "name": "stdout",
     "output_type": "stream",
     "text": [
      "13.7 µs ± 40.3 ns per loop (mean ± std. dev. of 7 runs, 100000 loops each)\n"
     ]
    }
   ],
   "source": [
    "%timeit np.random.uniform(-90.000, 90.000, size=1500)"
   ]
  },
  {
   "cell_type": "code",
   "execution_count": 15,
   "id": "bf1355de",
   "metadata": {},
   "outputs": [
    {
     "name": "stdout",
     "output_type": "stream",
     "text": [
      "1.65 ms ± 4.94 µs per loop (mean ± std. dev. of 7 runs, 1000 loops each)\n"
     ]
    }
   ],
   "source": [
    "def latitudes(size):\n",
    "    latitudes = []\n",
    "    x = 0\n",
    "    while x < (size):\n",
    "        random_lat = random.randint(-90, 90) + random.random()\n",
    "        latitudes.append(random_lat)\n",
    "        x += 1\n",
    "    return latitudes\n",
    "# Call the function with 1500.\n",
    "%timeit latitudes(1500)"
   ]
  },
  {
   "cell_type": "code",
   "execution_count": 16,
   "id": "3eb44e8e",
   "metadata": {},
   "outputs": [
    {
     "ename": "SyntaxError",
     "evalue": "invalid syntax (2339162695.py, line 6)",
     "output_type": "error",
     "traceback": [
      "\u001b[1;36m  File \u001b[1;32m\"C:\\Users\\tbfri\\AppData\\Local\\Temp\\ipykernel_23244\\2339162695.py\"\u001b[1;36m, line \u001b[1;32m6\u001b[0m\n\u001b[1;33m    for x < y:\u001b[0m\n\u001b[1;37m          ^\u001b[0m\n\u001b[1;31mSyntaxError\u001b[0m\u001b[1;31m:\u001b[0m invalid syntax\n"
     ]
    }
   ],
   "source": [
    "# Skill Drill -- not correct, try again later\n",
    "\n",
    "#latitudes = []\n",
    "#x = 0\n",
    "#y = 1500\n",
    "#for x < y:\n",
    "    #random_lat = random.randint(-90, 90) + random.random()\n",
    "    #latitudes.append(random_lat)\n",
    "    #x += 1\n",
    "\n",
    "#%timeit latitudes"
   ]
  },
  {
   "cell_type": "code",
   "execution_count": null,
   "id": "07932e45",
   "metadata": {},
   "outputs": [],
   "source": []
  }
 ],
 "metadata": {
  "kernelspec": {
   "display_name": "PythonData",
   "language": "python",
   "name": "pythondata"
  },
  "language_info": {
   "codemirror_mode": {
    "name": "ipython",
    "version": 3
   },
   "file_extension": ".py",
   "mimetype": "text/x-python",
   "name": "python",
   "nbconvert_exporter": "python",
   "pygments_lexer": "ipython3",
   "version": "3.7.13"
  }
 },
 "nbformat": 4,
 "nbformat_minor": 5
}
